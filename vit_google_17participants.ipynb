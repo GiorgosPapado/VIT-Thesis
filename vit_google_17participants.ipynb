{
 "cells": [
  {
   "cell_type": "code",
   "execution_count": 2,
   "metadata": {},
   "outputs": [],
   "source": [
    "import os\n",
    "import numpy as np\n",
    "import scipy.io as sio\n",
    "from sklearn.model_selection import train_test_split\n",
    "import torch\n",
    "from torch.utils.data import Dataset, DataLoader\n",
    "from transformers import ViTForImageClassification, ViTFeatureExtractor\n",
    "from tqdm import tqdm\n",
    "import glob\n",
    "\n",
    "# Function to extract the participant ID from the filename\n",
    "# def extract_participant_from_filename(filepath):\n",
    "#     filename = os.path.basename(filepath)\n",
    "#     parts = filename.split('_')\n",
    "#     for part in parts:\n",
    "#         if 'participant' in part:\n",
    "#             participant_id = part.replace('participant', '')\n",
    "#             return int(participant_id)  # Convert to integer\n",
    "#     return None  # If no participant ID found\n",
    "\n",
    "# Function to extract gesture label from the filename\n",
    "def extract_label_from_filename(filepath):\n",
    "    filename = os.path.basename(filepath)\n",
    "    parts = filename.split('_')\n",
    "    for part in parts:\n",
    "        if 'gesture' in part:\n",
    "            return int(part.replace('gesture', ''))\n",
    "    return None\n",
    "\n",
    "# Function to load and process a single .mat file\n",
    "def load_and_process_file(filepath, target_length):\n",
    "    mat_data = sio.loadmat(filepath)\n",
    "    data_emg = mat_data['data_emg']\n",
    "    \n",
    "    # Handle NaNs and Infinities\n",
    "    data_emg = np.nan_to_num(data_emg, nan=0.0, posinf=0.0, neginf=0.0)\n",
    "    \n",
    "    # Pad or truncate the data to the target length\n",
    "    if data_emg.shape[0] < target_length:\n",
    "        padded_data = np.pad(data_emg, ((0, target_length - data_emg.shape[0]), (0, 0)), 'constant', constant_values=0)\n",
    "    else:\n",
    "        padded_data = data_emg[:target_length]\n",
    "\n",
    "    # Reshape to 224x224x3 required by ViT (ensure the size is consistent)\n",
    "    padded_data = padded_data.flatten()  # Flatten before reshaping\n",
    "    num_pixels = 3 * 224 * 224 \n",
    "    \n",
    "    # If we don't have enough data, we can pad with zeros; otherwise, truncate\n",
    "    if padded_data.size < num_pixels:\n",
    "        reshaped_data = np.pad(padded_data, (0, num_pixels - padded_data.size), 'constant', constant_values=0)\n",
    "    else:\n",
    "        reshaped_data = padded_data[:num_pixels]\n",
    "    \n",
    "    # Reshape to (224, 224, 3) as required by ViT\n",
    "    reshaped_data = np.reshape(reshaped_data, (3, 224, 224))\n",
    "    \n",
    "    # Normalize data to range [0, 1]\n",
    "    reshaped_data = (reshaped_data - reshaped_data.min()) / (reshaped_data.max() - reshaped_data.min())\n",
    "\n",
    "    return reshaped_data"
   ]
  },
  {
   "cell_type": "code",
   "execution_count": 3,
   "metadata": {},
   "outputs": [],
   "source": [
    "\n",
    "\n",
    "# Custom dataset for the EMG data\n",
    "class EMGDataset(Dataset):\n",
    "    def __init__(self, file_list, target_length, labels):\n",
    "        self.file_list = file_list\n",
    "        self.target_length = target_length\n",
    "        self.labels = labels\n",
    "\n",
    "    def __len__(self):\n",
    "        return len(self.file_list)\n",
    "\n",
    "    def __getitem__(self, idx):\n",
    "        file_path = self.file_list[idx]\n",
    "        label = self.labels[idx]\n",
    "        emg_image = load_and_process_file(file_path, self.target_length)\n",
    "        return emg_image, label\n",
    "\n",
    "# Path to the root folder where all .mat files are stored\n",
    "root_folder = '17participants'  # Update with your folder path\n",
    "\n",
    "# Find all .mat files in the folder\n",
    "all_mat_files = glob.glob(os.path.join(root_folder, '*.mat'))\n",
    "\n",
    "# Collect all corresponding labels\n",
    "labels = [extract_label_from_filename(mat_file) for mat_file in all_mat_files]\n",
    "\n",
    "# Original unique labels\n",
    "unique_labels = np.unique(labels)\n",
    "\n",
    "# Create a mapping from the original labels to the new range 0-4\n",
    "label_mapping = {original_label: new_label for new_label, original_label in enumerate(unique_labels)}\n",
    "\n",
    "# Convert the original labels to the new range using the mapping\n",
    "converted_labels = np.array([label_mapping[label] for label in labels])\n",
    "\n",
    "labels = converted_labels\n",
    "# Target length for EMG signals (adjust based on your data)\n",
    "target_length = 10240  # Modify this as needed\n",
    "\n",
    "# Split the dataset into train and test sets\n",
    "train_files, test_files, train_labels, test_labels = train_test_split(all_mat_files, labels, test_size=0.2, random_state=42)\n",
    "\n",
    "# Create datasets and dataloaders\n",
    "train_dataset = EMGDataset(train_files, target_length, train_labels)\n",
    "test_dataset = EMGDataset(test_files, target_length, test_labels)\n",
    "\n",
    "train_loader = DataLoader(train_dataset, batch_size=32, shuffle=True)\n",
    "test_loader = DataLoader(test_dataset, batch_size=32, shuffle=False)"
   ]
  },
  {
   "cell_type": "code",
   "execution_count": 4,
   "metadata": {},
   "outputs": [
    {
     "name": "stdout",
     "output_type": "stream",
     "text": [
      "[0 1 2 3 4 5 6 7 8 9]\n"
     ]
    },
    {
     "data": {
      "text/plain": [
       "dtype('int64')"
      ]
     },
     "execution_count": 4,
     "metadata": {},
     "output_type": "execute_result"
    }
   ],
   "source": [
    "print(np.unique(labels))\n",
    "labels.dtype"
   ]
  },
  {
   "cell_type": "code",
   "execution_count": 5,
   "metadata": {},
   "outputs": [
    {
     "name": "stderr",
     "output_type": "stream",
     "text": [
      "/data1/George Pap/grabmyo/ptixiaki/.venv/lib/python3.10/site-packages/transformers/models/vit/feature_extraction_vit.py:28: FutureWarning: The class ViTFeatureExtractor is deprecated and will be removed in version 5 of Transformers. Please use ViTImageProcessor instead.\n",
      "  warnings.warn(\n",
      "Some weights of ViTForImageClassification were not initialized from the model checkpoint at google/vit-base-patch16-224-in21k and are newly initialized: ['classifier.bias', 'classifier.weight']\n",
      "You should probably TRAIN this model on a down-stream task to be able to use it for predictions and inference.\n"
     ]
    }
   ],
   "source": [
    "# Load a pre-trained ViT model from Hugging Face\n",
    "feature_extractor = ViTFeatureExtractor.from_pretrained('google/vit-base-patch16-224-in21k')\n",
    "model = ViTForImageClassification.from_pretrained('google/vit-base-patch16-224-in21k', num_labels=10)  # Adjust num_labels as needed\n",
    "\n",
    "# Move model to GPU if available\n",
    "device = torch.device(\"cuda\" if torch.cuda.is_available() else \"cpu\")\n",
    "model.to(device)\n",
    "\n",
    "# Define optimizer and loss function\n",
    "optimizer = torch.optim.AdamW(model.parameters(), lr=1e-4)\n",
    "criterion = torch.nn.CrossEntropyLoss()"
   ]
  },
  {
   "cell_type": "code",
   "execution_count": 6,
   "metadata": {},
   "outputs": [
    {
     "name": "stderr",
     "output_type": "stream",
     "text": [
      "2024/09/23 16:27:15 INFO mlflow.tracking.fluent: Experiment with name '17participants' does not exist. Creating a new experiment.\n",
      "Epoch 1/50: 100%|██████████| 90/90 [02:13<00:00,  1.48s/it]\n"
     ]
    },
    {
     "name": "stdout",
     "output_type": "stream",
     "text": [
      "Epoch 1, Loss: 1.9316, Accuracy: 0.3110\n",
      "Validation Loss: 1.7092, Validation Accuracy: 0.3843\n"
     ]
    },
    {
     "name": "stderr",
     "output_type": "stream",
     "text": [
      "2024/09/23 16:30:12 WARNING mlflow.models.model: Model logged without a signature and input example. Please set `input_example` parameter when logging the model to auto infer the model signature.\n",
      "Epoch 2/50: 100%|██████████| 90/90 [02:07<00:00,  1.42s/it]\n"
     ]
    },
    {
     "name": "stdout",
     "output_type": "stream",
     "text": [
      "Epoch 2, Loss: 1.4439, Accuracy: 0.5086\n",
      "Validation Loss: 1.1441, Validation Accuracy: 0.5105\n"
     ]
    },
    {
     "name": "stderr",
     "output_type": "stream",
     "text": [
      "2024/09/23 16:32:58 WARNING mlflow.models.model: Model logged without a signature and input example. Please set `input_example` parameter when logging the model to auto infer the model signature.\n",
      "Epoch 3/50: 100%|██████████| 90/90 [02:04<00:00,  1.38s/it]\n"
     ]
    },
    {
     "name": "stdout",
     "output_type": "stream",
     "text": [
      "Epoch 3, Loss: 1.1834, Accuracy: 0.5995\n",
      "Validation Loss: 2.4363, Validation Accuracy: 0.5316\n"
     ]
    },
    {
     "name": "stderr",
     "output_type": "stream",
     "text": [
      "2024/09/23 16:35:39 WARNING mlflow.models.model: Model logged without a signature and input example. Please set `input_example` parameter when logging the model to auto infer the model signature.\n",
      "Epoch 4/50: 100%|██████████| 90/90 [02:03<00:00,  1.37s/it]\n"
     ]
    },
    {
     "name": "stdout",
     "output_type": "stream",
     "text": [
      "Epoch 4, Loss: 0.9688, Accuracy: 0.6655\n",
      "Validation Loss: 0.3694, Validation Accuracy: 0.5596\n"
     ]
    },
    {
     "name": "stderr",
     "output_type": "stream",
     "text": [
      "2024/09/23 16:38:20 WARNING mlflow.models.model: Model logged without a signature and input example. Please set `input_example` parameter when logging the model to auto infer the model signature.\n",
      "Epoch 5/50: 100%|██████████| 90/90 [02:04<00:00,  1.38s/it]\n"
     ]
    },
    {
     "name": "stdout",
     "output_type": "stream",
     "text": [
      "Epoch 5, Loss: 0.6801, Accuracy: 0.7883\n",
      "Validation Loss: 0.3220, Validation Accuracy: 0.5736\n"
     ]
    },
    {
     "name": "stderr",
     "output_type": "stream",
     "text": [
      "2024/09/23 16:41:04 WARNING mlflow.models.model: Model logged without a signature and input example. Please set `input_example` parameter when logging the model to auto infer the model signature.\n",
      "Epoch 6/50: 100%|██████████| 90/90 [02:02<00:00,  1.36s/it]\n"
     ]
    },
    {
     "name": "stdout",
     "output_type": "stream",
     "text": [
      "Epoch 6, Loss: 0.5193, Accuracy: 0.8256\n",
      "Validation Loss: 0.1002, Validation Accuracy: 0.5792\n"
     ]
    },
    {
     "name": "stderr",
     "output_type": "stream",
     "text": [
      "2024/09/23 16:43:44 WARNING mlflow.models.model: Model logged without a signature and input example. Please set `input_example` parameter when logging the model to auto infer the model signature.\n",
      "Epoch 7/50: 100%|██████████| 90/90 [02:01<00:00,  1.35s/it]\n"
     ]
    },
    {
     "name": "stdout",
     "output_type": "stream",
     "text": [
      "Epoch 7, Loss: 0.3164, Accuracy: 0.9063\n",
      "Validation Loss: 0.0771, Validation Accuracy: 0.6045\n"
     ]
    },
    {
     "name": "stderr",
     "output_type": "stream",
     "text": [
      "2024/09/23 16:46:22 WARNING mlflow.models.model: Model logged without a signature and input example. Please set `input_example` parameter when logging the model to auto infer the model signature.\n",
      "Epoch 8/50: 100%|██████████| 90/90 [02:02<00:00,  1.36s/it]\n"
     ]
    },
    {
     "name": "stdout",
     "output_type": "stream",
     "text": [
      "Epoch 8, Loss: 0.2343, Accuracy: 0.9333\n",
      "Validation Loss: 0.0319, Validation Accuracy: 0.5470\n"
     ]
    },
    {
     "name": "stderr",
     "output_type": "stream",
     "text": [
      "2024/09/23 16:49:02 WARNING mlflow.models.model: Model logged without a signature and input example. Please set `input_example` parameter when logging the model to auto infer the model signature.\n",
      "Epoch 9/50: 100%|██████████| 90/90 [02:00<00:00,  1.33s/it]\n"
     ]
    },
    {
     "name": "stdout",
     "output_type": "stream",
     "text": [
      "Epoch 9, Loss: 0.2102, Accuracy: 0.9414\n",
      "Validation Loss: 0.0400, Validation Accuracy: 0.5680\n"
     ]
    },
    {
     "name": "stderr",
     "output_type": "stream",
     "text": [
      "2024/09/23 16:51:42 WARNING mlflow.models.model: Model logged without a signature and input example. Please set `input_example` parameter when logging the model to auto infer the model signature.\n",
      "Epoch 10/50: 100%|██████████| 90/90 [02:04<00:00,  1.38s/it]\n"
     ]
    },
    {
     "name": "stdout",
     "output_type": "stream",
     "text": [
      "Epoch 10, Loss: 0.1657, Accuracy: 0.9537\n",
      "Validation Loss: 0.0466, Validation Accuracy: 0.5694\n"
     ]
    },
    {
     "name": "stderr",
     "output_type": "stream",
     "text": [
      "2024/09/23 16:54:24 WARNING mlflow.models.model: Model logged without a signature and input example. Please set `input_example` parameter when logging the model to auto infer the model signature.\n",
      "Epoch 11/50: 100%|██████████| 90/90 [02:03<00:00,  1.38s/it]\n"
     ]
    },
    {
     "name": "stdout",
     "output_type": "stream",
     "text": [
      "Epoch 11, Loss: 0.1142, Accuracy: 0.9698\n",
      "Validation Loss: 0.0199, Validation Accuracy: 0.5947\n"
     ]
    },
    {
     "name": "stderr",
     "output_type": "stream",
     "text": [
      "2024/09/23 16:57:07 WARNING mlflow.models.model: Model logged without a signature and input example. Please set `input_example` parameter when logging the model to auto infer the model signature.\n",
      "Epoch 12/50: 100%|██████████| 90/90 [02:03<00:00,  1.37s/it]\n"
     ]
    },
    {
     "name": "stdout",
     "output_type": "stream",
     "text": [
      "Epoch 12, Loss: 0.1139, Accuracy: 0.9691\n",
      "Validation Loss: 0.0110, Validation Accuracy: 0.5820\n"
     ]
    },
    {
     "name": "stderr",
     "output_type": "stream",
     "text": [
      "2024/09/23 16:59:47 WARNING mlflow.models.model: Model logged without a signature and input example. Please set `input_example` parameter when logging the model to auto infer the model signature.\n",
      "Epoch 13/50: 100%|██████████| 90/90 [02:02<00:00,  1.36s/it]\n"
     ]
    },
    {
     "name": "stdout",
     "output_type": "stream",
     "text": [
      "Epoch 13, Loss: 0.0899, Accuracy: 0.9726\n",
      "Validation Loss: 0.0166, Validation Accuracy: 0.5863\n"
     ]
    },
    {
     "name": "stderr",
     "output_type": "stream",
     "text": [
      "2024/09/23 17:02:29 WARNING mlflow.models.model: Model logged without a signature and input example. Please set `input_example` parameter when logging the model to auto infer the model signature.\n",
      "Epoch 14/50: 100%|██████████| 90/90 [02:04<00:00,  1.39s/it]\n"
     ]
    },
    {
     "name": "stdout",
     "output_type": "stream",
     "text": [
      "Epoch 14, Loss: 0.0895, Accuracy: 0.9747\n",
      "Validation Loss: 0.0133, Validation Accuracy: 0.6073\n"
     ]
    },
    {
     "name": "stderr",
     "output_type": "stream",
     "text": [
      "2024/09/23 17:05:14 WARNING mlflow.models.model: Model logged without a signature and input example. Please set `input_example` parameter when logging the model to auto infer the model signature.\n",
      "Epoch 15/50: 100%|██████████| 90/90 [02:01<00:00,  1.35s/it]\n"
     ]
    },
    {
     "name": "stdout",
     "output_type": "stream",
     "text": [
      "Epoch 15, Loss: 0.0654, Accuracy: 0.9828\n",
      "Validation Loss: 0.0195, Validation Accuracy: 0.5806\n"
     ]
    },
    {
     "name": "stderr",
     "output_type": "stream",
     "text": [
      "2024/09/23 17:07:52 WARNING mlflow.models.model: Model logged without a signature and input example. Please set `input_example` parameter when logging the model to auto infer the model signature.\n",
      "Epoch 16/50: 100%|██████████| 90/90 [02:00<00:00,  1.34s/it]\n"
     ]
    },
    {
     "name": "stdout",
     "output_type": "stream",
     "text": [
      "Epoch 16, Loss: 0.0879, Accuracy: 0.9751\n",
      "Validation Loss: 0.0333, Validation Accuracy: 0.5806\n"
     ]
    },
    {
     "name": "stderr",
     "output_type": "stream",
     "text": [
      "2024/09/23 17:10:33 WARNING mlflow.models.model: Model logged without a signature and input example. Please set `input_example` parameter when logging the model to auto infer the model signature.\n",
      "Epoch 17/50: 100%|██████████| 90/90 [02:02<00:00,  1.36s/it]\n"
     ]
    },
    {
     "name": "stdout",
     "output_type": "stream",
     "text": [
      "Epoch 17, Loss: 0.0565, Accuracy: 0.9867\n",
      "Validation Loss: 0.0054, Validation Accuracy: 0.5820\n"
     ]
    },
    {
     "name": "stderr",
     "output_type": "stream",
     "text": [
      "2024/09/23 17:13:12 WARNING mlflow.models.model: Model logged without a signature and input example. Please set `input_example` parameter when logging the model to auto infer the model signature.\n",
      "Epoch 18/50: 100%|██████████| 90/90 [02:01<00:00,  1.35s/it]\n"
     ]
    },
    {
     "name": "stdout",
     "output_type": "stream",
     "text": [
      "Epoch 18, Loss: 0.0658, Accuracy: 0.9839\n",
      "Validation Loss: 0.0077, Validation Accuracy: 0.5778\n"
     ]
    },
    {
     "name": "stderr",
     "output_type": "stream",
     "text": [
      "2024/09/23 17:15:53 WARNING mlflow.models.model: Model logged without a signature and input example. Please set `input_example` parameter when logging the model to auto infer the model signature.\n",
      "Epoch 19/50: 100%|██████████| 90/90 [02:04<00:00,  1.39s/it]\n"
     ]
    },
    {
     "name": "stdout",
     "output_type": "stream",
     "text": [
      "Epoch 19, Loss: 0.0404, Accuracy: 0.9888\n",
      "Validation Loss: 0.0574, Validation Accuracy: 0.5722\n"
     ]
    },
    {
     "name": "stderr",
     "output_type": "stream",
     "text": [
      "2024/09/23 17:18:36 WARNING mlflow.models.model: Model logged without a signature and input example. Please set `input_example` parameter when logging the model to auto infer the model signature.\n",
      "Epoch 20/50: 100%|██████████| 90/90 [02:04<00:00,  1.39s/it]\n"
     ]
    },
    {
     "name": "stdout",
     "output_type": "stream",
     "text": [
      "Epoch 20, Loss: 0.0970, Accuracy: 0.9712\n",
      "Validation Loss: 0.0305, Validation Accuracy: 0.6059\n"
     ]
    },
    {
     "name": "stderr",
     "output_type": "stream",
     "text": [
      "2024/09/23 17:21:18 WARNING mlflow.models.model: Model logged without a signature and input example. Please set `input_example` parameter when logging the model to auto infer the model signature.\n",
      "Epoch 21/50: 100%|██████████| 90/90 [02:06<00:00,  1.41s/it]\n"
     ]
    },
    {
     "name": "stdout",
     "output_type": "stream",
     "text": [
      "Epoch 21, Loss: 0.0329, Accuracy: 0.9923\n",
      "Validation Loss: 0.0050, Validation Accuracy: 0.5947\n"
     ]
    },
    {
     "name": "stderr",
     "output_type": "stream",
     "text": [
      "2024/09/23 17:24:02 WARNING mlflow.models.model: Model logged without a signature and input example. Please set `input_example` parameter when logging the model to auto infer the model signature.\n",
      "Epoch 22/50: 100%|██████████| 90/90 [02:01<00:00,  1.35s/it]\n"
     ]
    },
    {
     "name": "stdout",
     "output_type": "stream",
     "text": [
      "Epoch 22, Loss: 0.0193, Accuracy: 0.9961\n",
      "Validation Loss: 0.0078, Validation Accuracy: 0.6059\n"
     ]
    },
    {
     "name": "stderr",
     "output_type": "stream",
     "text": [
      "2024/09/23 17:26:41 WARNING mlflow.models.model: Model logged without a signature and input example. Please set `input_example` parameter when logging the model to auto infer the model signature.\n",
      "Epoch 23/50: 100%|██████████| 90/90 [02:02<00:00,  1.36s/it]\n"
     ]
    },
    {
     "name": "stdout",
     "output_type": "stream",
     "text": [
      "Epoch 23, Loss: 0.0205, Accuracy: 0.9965\n",
      "Validation Loss: 0.0052, Validation Accuracy: 0.5736\n"
     ]
    },
    {
     "name": "stderr",
     "output_type": "stream",
     "text": [
      "2024/09/23 17:29:22 WARNING mlflow.models.model: Model logged without a signature and input example. Please set `input_example` parameter when logging the model to auto infer the model signature.\n",
      "Epoch 24/50: 100%|██████████| 90/90 [02:03<00:00,  1.37s/it]\n"
     ]
    },
    {
     "name": "stdout",
     "output_type": "stream",
     "text": [
      "Epoch 24, Loss: 0.1034, Accuracy: 0.9684\n",
      "Validation Loss: 0.0142, Validation Accuracy: 0.5961\n"
     ]
    },
    {
     "name": "stderr",
     "output_type": "stream",
     "text": [
      "2024/09/23 17:32:00 WARNING mlflow.models.model: Model logged without a signature and input example. Please set `input_example` parameter when logging the model to auto infer the model signature.\n",
      "Epoch 25/50: 100%|██████████| 90/90 [02:04<00:00,  1.39s/it]\n"
     ]
    },
    {
     "name": "stdout",
     "output_type": "stream",
     "text": [
      "Epoch 25, Loss: 0.1166, Accuracy: 0.9649\n",
      "Validation Loss: 0.0075, Validation Accuracy: 0.6115\n"
     ]
    },
    {
     "name": "stderr",
     "output_type": "stream",
     "text": [
      "2024/09/23 17:34:44 WARNING mlflow.models.model: Model logged without a signature and input example. Please set `input_example` parameter when logging the model to auto infer the model signature.\n",
      "Epoch 26/50: 100%|██████████| 90/90 [02:04<00:00,  1.38s/it]\n"
     ]
    },
    {
     "name": "stdout",
     "output_type": "stream",
     "text": [
      "Epoch 26, Loss: 0.0209, Accuracy: 0.9954\n",
      "Validation Loss: 0.0063, Validation Accuracy: 0.6115\n"
     ]
    },
    {
     "name": "stderr",
     "output_type": "stream",
     "text": [
      "2024/09/23 17:37:27 WARNING mlflow.models.model: Model logged without a signature and input example. Please set `input_example` parameter when logging the model to auto infer the model signature.\n",
      "Epoch 27/50: 100%|██████████| 90/90 [01:59<00:00,  1.33s/it]\n"
     ]
    },
    {
     "name": "stdout",
     "output_type": "stream",
     "text": [
      "Epoch 27, Loss: 0.0237, Accuracy: 0.9937\n",
      "Validation Loss: 0.0054, Validation Accuracy: 0.5975\n"
     ]
    },
    {
     "name": "stderr",
     "output_type": "stream",
     "text": [
      "2024/09/23 17:40:05 WARNING mlflow.models.model: Model logged without a signature and input example. Please set `input_example` parameter when logging the model to auto infer the model signature.\n",
      "Epoch 28/50: 100%|██████████| 90/90 [01:59<00:00,  1.32s/it]\n"
     ]
    },
    {
     "name": "stdout",
     "output_type": "stream",
     "text": [
      "Epoch 28, Loss: 0.0181, Accuracy: 0.9961\n",
      "Validation Loss: 0.0036, Validation Accuracy: 0.6045\n"
     ]
    },
    {
     "name": "stderr",
     "output_type": "stream",
     "text": [
      "2024/09/23 17:42:41 WARNING mlflow.models.model: Model logged without a signature and input example. Please set `input_example` parameter when logging the model to auto infer the model signature.\n",
      "Epoch 29/50: 100%|██████████| 90/90 [02:02<00:00,  1.36s/it]\n"
     ]
    },
    {
     "name": "stdout",
     "output_type": "stream",
     "text": [
      "Epoch 29, Loss: 0.0385, Accuracy: 0.9895\n",
      "Validation Loss: 0.0017, Validation Accuracy: 0.5806\n"
     ]
    },
    {
     "name": "stderr",
     "output_type": "stream",
     "text": [
      "2024/09/23 17:45:23 WARNING mlflow.models.model: Model logged without a signature and input example. Please set `input_example` parameter when logging the model to auto infer the model signature.\n",
      "Epoch 30/50: 100%|██████████| 90/90 [02:04<00:00,  1.38s/it]\n"
     ]
    },
    {
     "name": "stdout",
     "output_type": "stream",
     "text": [
      "Epoch 30, Loss: 0.0408, Accuracy: 0.9867\n",
      "Validation Loss: 0.0023, Validation Accuracy: 0.5975\n"
     ]
    },
    {
     "name": "stderr",
     "output_type": "stream",
     "text": [
      "2024/09/23 17:48:05 WARNING mlflow.models.model: Model logged without a signature and input example. Please set `input_example` parameter when logging the model to auto infer the model signature.\n",
      "Epoch 31/50: 100%|██████████| 90/90 [02:05<00:00,  1.39s/it]\n"
     ]
    },
    {
     "name": "stdout",
     "output_type": "stream",
     "text": [
      "Epoch 31, Loss: 0.0742, Accuracy: 0.9814\n",
      "Validation Loss: 0.0959, Validation Accuracy: 0.6101\n"
     ]
    },
    {
     "name": "stderr",
     "output_type": "stream",
     "text": [
      "2024/09/23 17:50:49 WARNING mlflow.models.model: Model logged without a signature and input example. Please set `input_example` parameter when logging the model to auto infer the model signature.\n",
      "Epoch 32/50: 100%|██████████| 90/90 [02:05<00:00,  1.39s/it]\n"
     ]
    },
    {
     "name": "stdout",
     "output_type": "stream",
     "text": [
      "Epoch 32, Loss: 0.0944, Accuracy: 0.9737\n",
      "Validation Loss: 0.0041, Validation Accuracy: 0.5891\n"
     ]
    },
    {
     "name": "stderr",
     "output_type": "stream",
     "text": [
      "2024/09/23 17:53:33 WARNING mlflow.models.model: Model logged without a signature and input example. Please set `input_example` parameter when logging the model to auto infer the model signature.\n",
      "Epoch 33/50: 100%|██████████| 90/90 [02:01<00:00,  1.35s/it]\n"
     ]
    },
    {
     "name": "stdout",
     "output_type": "stream",
     "text": [
      "Epoch 33, Loss: 0.0556, Accuracy: 0.9856\n",
      "Validation Loss: 0.0066, Validation Accuracy: 0.5947\n"
     ]
    },
    {
     "name": "stderr",
     "output_type": "stream",
     "text": [
      "2024/09/23 17:56:05 WARNING mlflow.models.model: Model logged without a signature and input example. Please set `input_example` parameter when logging the model to auto infer the model signature.\n",
      "Epoch 34/50: 100%|██████████| 90/90 [01:11<00:00,  1.25it/s]\n"
     ]
    },
    {
     "name": "stdout",
     "output_type": "stream",
     "text": [
      "Epoch 34, Loss: 0.0166, Accuracy: 0.9958\n",
      "Validation Loss: 0.0050, Validation Accuracy: 0.5526\n"
     ]
    },
    {
     "name": "stderr",
     "output_type": "stream",
     "text": [
      "2024/09/23 17:57:37 WARNING mlflow.models.model: Model logged without a signature and input example. Please set `input_example` parameter when logging the model to auto infer the model signature.\n",
      "Epoch 35/50: 100%|██████████| 90/90 [01:09<00:00,  1.29it/s]\n"
     ]
    },
    {
     "name": "stdout",
     "output_type": "stream",
     "text": [
      "Epoch 35, Loss: 0.0327, Accuracy: 0.9912\n",
      "Validation Loss: 0.0027, Validation Accuracy: 0.5666\n"
     ]
    },
    {
     "name": "stderr",
     "output_type": "stream",
     "text": [
      "2024/09/23 17:59:07 WARNING mlflow.models.model: Model logged without a signature and input example. Please set `input_example` parameter when logging the model to auto infer the model signature.\n",
      "Epoch 36/50: 100%|██████████| 90/90 [01:10<00:00,  1.27it/s]\n"
     ]
    },
    {
     "name": "stdout",
     "output_type": "stream",
     "text": [
      "Epoch 36, Loss: 0.0251, Accuracy: 0.9926\n",
      "Validation Loss: 0.0012, Validation Accuracy: 0.5933\n"
     ]
    },
    {
     "name": "stderr",
     "output_type": "stream",
     "text": [
      "2024/09/23 18:00:38 WARNING mlflow.models.model: Model logged without a signature and input example. Please set `input_example` parameter when logging the model to auto infer the model signature.\n",
      "Epoch 37/50: 100%|██████████| 90/90 [01:10<00:00,  1.28it/s]\n"
     ]
    },
    {
     "name": "stdout",
     "output_type": "stream",
     "text": [
      "Epoch 37, Loss: 0.0063, Accuracy: 0.9993\n",
      "Validation Loss: 0.0018, Validation Accuracy: 0.6073\n"
     ]
    },
    {
     "name": "stderr",
     "output_type": "stream",
     "text": [
      "2024/09/23 18:02:09 WARNING mlflow.models.model: Model logged without a signature and input example. Please set `input_example` parameter when logging the model to auto infer the model signature.\n",
      "Epoch 38/50: 100%|██████████| 90/90 [01:11<00:00,  1.26it/s]\n"
     ]
    },
    {
     "name": "stdout",
     "output_type": "stream",
     "text": [
      "Epoch 38, Loss: 0.0039, Accuracy: 0.9996\n",
      "Validation Loss: 0.0031, Validation Accuracy: 0.6199\n"
     ]
    },
    {
     "name": "stderr",
     "output_type": "stream",
     "text": [
      "2024/09/23 18:03:40 WARNING mlflow.models.model: Model logged without a signature and input example. Please set `input_example` parameter when logging the model to auto infer the model signature.\n",
      "Epoch 39/50: 100%|██████████| 90/90 [01:10<00:00,  1.28it/s]\n"
     ]
    },
    {
     "name": "stdout",
     "output_type": "stream",
     "text": [
      "Epoch 39, Loss: 0.0022, Accuracy: 1.0000\n",
      "Validation Loss: 0.0029, Validation Accuracy: 0.6213\n"
     ]
    },
    {
     "name": "stderr",
     "output_type": "stream",
     "text": [
      "2024/09/23 18:05:11 WARNING mlflow.models.model: Model logged without a signature and input example. Please set `input_example` parameter when logging the model to auto infer the model signature.\n",
      "Epoch 40/50: 100%|██████████| 90/90 [01:10<00:00,  1.27it/s]\n"
     ]
    },
    {
     "name": "stdout",
     "output_type": "stream",
     "text": [
      "Epoch 40, Loss: 0.0019, Accuracy: 1.0000\n",
      "Validation Loss: 0.0015, Validation Accuracy: 0.6199\n"
     ]
    },
    {
     "name": "stderr",
     "output_type": "stream",
     "text": [
      "2024/09/23 18:06:42 WARNING mlflow.models.model: Model logged without a signature and input example. Please set `input_example` parameter when logging the model to auto infer the model signature.\n",
      "Epoch 41/50: 100%|██████████| 90/90 [01:11<00:00,  1.27it/s]\n"
     ]
    },
    {
     "name": "stdout",
     "output_type": "stream",
     "text": [
      "Epoch 41, Loss: 0.0018, Accuracy: 1.0000\n",
      "Validation Loss: 0.0018, Validation Accuracy: 0.6199\n"
     ]
    },
    {
     "name": "stderr",
     "output_type": "stream",
     "text": [
      "2024/09/23 18:08:13 WARNING mlflow.models.model: Model logged without a signature and input example. Please set `input_example` parameter when logging the model to auto infer the model signature.\n",
      "Epoch 42/50: 100%|██████████| 90/90 [01:10<00:00,  1.28it/s]\n"
     ]
    },
    {
     "name": "stdout",
     "output_type": "stream",
     "text": [
      "Epoch 42, Loss: 0.0016, Accuracy: 1.0000\n",
      "Validation Loss: 0.0017, Validation Accuracy: 0.6185\n"
     ]
    },
    {
     "name": "stderr",
     "output_type": "stream",
     "text": [
      "2024/09/23 18:09:44 WARNING mlflow.models.model: Model logged without a signature and input example. Please set `input_example` parameter when logging the model to auto infer the model signature.\n",
      "Epoch 43/50: 100%|██████████| 90/90 [01:10<00:00,  1.27it/s]\n"
     ]
    },
    {
     "name": "stdout",
     "output_type": "stream",
     "text": [
      "Epoch 43, Loss: 0.0015, Accuracy: 1.0000\n",
      "Validation Loss: 0.0014, Validation Accuracy: 0.6213\n"
     ]
    },
    {
     "name": "stderr",
     "output_type": "stream",
     "text": [
      "2024/09/23 18:11:16 WARNING mlflow.models.model: Model logged without a signature and input example. Please set `input_example` parameter when logging the model to auto infer the model signature.\n",
      "Epoch 44/50: 100%|██████████| 90/90 [01:11<00:00,  1.26it/s]\n"
     ]
    },
    {
     "name": "stdout",
     "output_type": "stream",
     "text": [
      "Epoch 44, Loss: 0.0014, Accuracy: 1.0000\n",
      "Validation Loss: 0.0015, Validation Accuracy: 0.6241\n"
     ]
    },
    {
     "name": "stderr",
     "output_type": "stream",
     "text": [
      "2024/09/23 18:12:47 WARNING mlflow.models.model: Model logged without a signature and input example. Please set `input_example` parameter when logging the model to auto infer the model signature.\n",
      "Epoch 45/50: 100%|██████████| 90/90 [01:10<00:00,  1.27it/s]\n"
     ]
    },
    {
     "name": "stdout",
     "output_type": "stream",
     "text": [
      "Epoch 45, Loss: 0.0013, Accuracy: 1.0000\n",
      "Validation Loss: 0.0010, Validation Accuracy: 0.6241\n"
     ]
    },
    {
     "name": "stderr",
     "output_type": "stream",
     "text": [
      "2024/09/23 18:14:18 WARNING mlflow.models.model: Model logged without a signature and input example. Please set `input_example` parameter when logging the model to auto infer the model signature.\n",
      "Epoch 46/50: 100%|██████████| 90/90 [01:10<00:00,  1.28it/s]\n"
     ]
    },
    {
     "name": "stdout",
     "output_type": "stream",
     "text": [
      "Epoch 46, Loss: 0.0012, Accuracy: 1.0000\n",
      "Validation Loss: 0.0012, Validation Accuracy: 0.6255\n"
     ]
    },
    {
     "name": "stderr",
     "output_type": "stream",
     "text": [
      "2024/09/23 18:15:49 WARNING mlflow.models.model: Model logged without a signature and input example. Please set `input_example` parameter when logging the model to auto infer the model signature.\n",
      "Epoch 47/50: 100%|██████████| 90/90 [01:10<00:00,  1.28it/s]\n"
     ]
    },
    {
     "name": "stdout",
     "output_type": "stream",
     "text": [
      "Epoch 47, Loss: 0.0011, Accuracy: 1.0000\n",
      "Validation Loss: 0.0011, Validation Accuracy: 0.6241\n"
     ]
    },
    {
     "name": "stderr",
     "output_type": "stream",
     "text": [
      "2024/09/23 18:17:20 WARNING mlflow.models.model: Model logged without a signature and input example. Please set `input_example` parameter when logging the model to auto infer the model signature.\n",
      "Epoch 48/50: 100%|██████████| 90/90 [01:10<00:00,  1.28it/s]\n"
     ]
    },
    {
     "name": "stdout",
     "output_type": "stream",
     "text": [
      "Epoch 48, Loss: 0.0011, Accuracy: 1.0000\n",
      "Validation Loss: 0.0014, Validation Accuracy: 0.6255\n"
     ]
    },
    {
     "name": "stderr",
     "output_type": "stream",
     "text": [
      "2024/09/23 18:18:50 WARNING mlflow.models.model: Model logged without a signature and input example. Please set `input_example` parameter when logging the model to auto infer the model signature.\n",
      "Epoch 49/50: 100%|██████████| 90/90 [01:10<00:00,  1.28it/s]\n"
     ]
    },
    {
     "name": "stdout",
     "output_type": "stream",
     "text": [
      "Epoch 49, Loss: 0.0010, Accuracy: 1.0000\n",
      "Validation Loss: 0.0010, Validation Accuracy: 0.6255\n"
     ]
    },
    {
     "name": "stderr",
     "output_type": "stream",
     "text": [
      "2024/09/23 18:20:21 WARNING mlflow.models.model: Model logged without a signature and input example. Please set `input_example` parameter when logging the model to auto infer the model signature.\n",
      "Epoch 50/50: 100%|██████████| 90/90 [01:10<00:00,  1.27it/s]\n"
     ]
    },
    {
     "name": "stdout",
     "output_type": "stream",
     "text": [
      "Epoch 50, Loss: 0.0010, Accuracy: 1.0000\n",
      "Validation Loss: 0.0011, Validation Accuracy: 0.6269\n"
     ]
    },
    {
     "name": "stderr",
     "output_type": "stream",
     "text": [
      "2024/09/23 18:21:52 WARNING mlflow.models.model: Model logged without a signature and input example. Please set `input_example` parameter when logging the model to auto infer the model signature.\n"
     ]
    }
   ],
   "source": [
    "# --- Training loop for 50 epochs ---\n",
    "import mlflow\n",
    "import mlflow.pytorch\n",
    "num_epochs = 50\n",
    "\n",
    "# Track experiment with MLflow\n",
    "def start_mlflow_experiment(experiment_name):\n",
    "    mlflow.set_experiment(experiment_name)\n",
    "    mlflow.start_run()\n",
    "\n",
    "def end_mlflow_experiment():\n",
    "    mlflow.end_run()\n",
    "\n",
    "# Define the name of the experiment based on the input file or another identifier\n",
    "def get_experiment_name_from_file(filepath):\n",
    "    experiment_name = os.path.basename(filepath).split('.')[0]  # Extract filename without extension\n",
    "    return experiment_name\n",
    "\n",
    "# Initialize MLflow experiment (This can be placed at the start of your main function)\n",
    "experiment_name = get_experiment_name_from_file(root_folder)  # Using folder as experiment name\n",
    "start_mlflow_experiment(experiment_name)\n",
    "\n",
    "for epoch in range(num_epochs):\n",
    "    model.train()\n",
    "    total_loss = 0\n",
    "    correct = 0\n",
    "    total = 0\n",
    "\n",
    "    for emg_data, labels in tqdm(train_loader, desc=f'Epoch {epoch+1}/{num_epochs}'):\n",
    "        # emg_data = torch.tensor(emg_data).float().to(device)  # Convert to PyTorch tensor and move to device\n",
    "        # labels = torch.tensor(labels).long().to(device)  # Convert labels to tensor and move to device\n",
    "        emg_data = emg_data.to(device)  # Convert to PyTorch tensor and move to device\n",
    "        labels = labels.to(device)  # Convert labels to tensor and move to device\n",
    "        # Prepare input for ViT by treating EMG data as image-like input\n",
    "        inputs = feature_extractor(emg_data, return_tensors=\"pt\", do_rescale=False)['pixel_values'].to(device)\n",
    "\n",
    "        \n",
    "        # Forward pass\n",
    "        outputs = model(pixel_values=inputs)\n",
    "        loss = criterion(outputs.logits, labels)\n",
    "        \n",
    "        # Backward pass\n",
    "        optimizer.zero_grad()\n",
    "        loss.backward()\n",
    "        optimizer.step()\n",
    "        \n",
    "        # Compute accuracy\n",
    "        _, predicted = torch.max(outputs.logits, 1)\n",
    "        total += labels.size(0)\n",
    "        correct += (predicted == labels).sum().item()\n",
    "        total_loss += loss.item()\n",
    "        train_acc = correct / total\n",
    "    mlflow.log_metric(\"train_loss\", total_loss, step=epoch)\n",
    "    mlflow.log_metric(\"train_accuracy\", train_acc, step=epoch)\n",
    "    print(f'Epoch {epoch+1}, Loss: {total_loss/len(train_loader):.4f}, Accuracy: {correct/total:.4f}')\n",
    "\n",
    "    # --- Testing loop ---\n",
    "    model.eval()\n",
    "    correct = 0\n",
    "    total = 0\n",
    "    val_loss = 0.0\n",
    "    with torch.no_grad():\n",
    "        for emg_data, labels in test_loader:\n",
    "            emg_data = emg_data.to(device)  # Convert to PyTorch tensor and move to device\n",
    "            labels = labels.to(device)  # Convert labels to tensor and move to device\n",
    "\n",
    "            inputs = feature_extractor(emg_data, return_tensors=\"pt\", do_rescale=False)['pixel_values'].to(device)\n",
    "            outputs = model(pixel_values=inputs)\n",
    "            _, predicted = torch.max(outputs.logits, 1)\n",
    "            val_loss += loss.item()\n",
    "            total += labels.size(0)\n",
    "            correct += (predicted == labels).sum().item()\n",
    "        val_loss = val_loss / len(test_loader)\n",
    "        val_acc = correct / total\n",
    "        print(f'Validation Loss: {val_loss:.4f}, Validation Accuracy: {val_acc:.4f}')\n",
    "        mlflow.log_metric(\"val_loss\", val_loss, step=epoch)\n",
    "        mlflow.log_metric(\"val_accuracy\", val_acc, step=epoch)\n",
    "        mlflow.pytorch.log_model(model, \"models/last_model\")\n",
    "end_mlflow_experiment()       "
   ]
  }
 ],
 "metadata": {
  "kernelspec": {
   "display_name": ".venv",
   "language": "python",
   "name": "python3"
  },
  "language_info": {
   "codemirror_mode": {
    "name": "ipython",
    "version": 3
   },
   "file_extension": ".py",
   "mimetype": "text/x-python",
   "name": "python",
   "nbconvert_exporter": "python",
   "pygments_lexer": "ipython3",
   "version": "3.10.12"
  }
 },
 "nbformat": 4,
 "nbformat_minor": 2
}
