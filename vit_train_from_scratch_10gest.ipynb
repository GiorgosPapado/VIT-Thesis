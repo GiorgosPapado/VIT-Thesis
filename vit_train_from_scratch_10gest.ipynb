{
 "cells": [
  {
   "cell_type": "code",
   "execution_count": 1,
   "metadata": {},
   "outputs": [],
   "source": [
    "import numpy as np\n",
    "\n",
    "# Apply Gaussian noise\n",
    "def add_noise(emg_data, noise_factor=0.05):\n",
    "    noise = np.random.randn(*emg_data.shape) * noise_factor\n",
    "    augmented_data = emg_data + noise\n",
    "    return augmented_data\n",
    "\n",
    "# Time warping: Stretch or compress the time axis slightly\n",
    "def time_warp(emg_data, time_warp_factor=0.1):\n",
    "    stretch_factor = np.random.uniform(1 - time_warp_factor, 1 + time_warp_factor)\n",
    "    indices = np.round(np.linspace(0, emg_data.shape[0] - 1, int(emg_data.shape[0] * stretch_factor))).astype(int)\n",
    "    augmented_data = emg_data[indices % emg_data.shape[0]]\n",
    "    return augmented_data\n",
    "\n",
    "# Signal scaling: Multiply by a random factor\n",
    "def scale_signal(emg_data, scale_factor=0.1):\n",
    "    scaling_factor = np.random.uniform(1 - scale_factor, 1 + scale_factor)\n",
    "    return emg_data * scaling_factor\n",
    "\n",
    "# Random cropping and padding\n",
    "def random_crop_pad(emg_data, target_length):\n",
    "    if emg_data.shape[0] < target_length:\n",
    "        # Pad\n",
    "        pad_size = target_length - emg_data.shape[0]\n",
    "        pad_before = np.random.randint(0, pad_size)\n",
    "        pad_after = pad_size - pad_before\n",
    "        augmented_data = np.pad(emg_data, ((pad_before, pad_after), (0, 0)), 'constant')\n",
    "    else:\n",
    "        # Crop\n",
    "        crop_start = np.random.randint(0, emg_data.shape[0] - target_length)\n",
    "        augmented_data = emg_data[crop_start:crop_start + target_length]\n",
    "    \n",
    "    return augmented_data\n",
    "\n",
    "# Random horizontal or vertical flip\n",
    "def flip(emg_data):\n",
    "    if np.random.rand() > 0.5:\n",
    "        return np.flip(emg_data, axis=0)  # Flip along time axis\n",
    "    return emg_data\n",
    "\n",
    "# Data augmentation pipeline\n",
    "def augment_data(emg_data, target_length):\n",
    "    # Apply augmentations\n",
    "    emg_data = add_noise(emg_data)\n",
    "    #emg_data = time_warp(emg_data)\n",
    "    emg_data = scale_signal(emg_data)\n",
    "    #emg_data = random_crop_pad(emg_data, target_length)\n",
    "    #emg_data = flip(emg_data)\n",
    "    \n",
    "    return emg_data\n"
   ]
  },
  {
   "cell_type": "code",
   "execution_count": 2,
   "metadata": {},
   "outputs": [
    {
     "name": "stdout",
     "output_type": "stream",
     "text": [
      "Validation Loss: 1.6370, Validation Accuracy: 0.5702\n"
     ]
    },
    {
     "name": "stderr",
     "output_type": "stream",
     "text": [
      "2024/09/20 10:19:12 WARNING mlflow.models.model: Model logged without a signature and input example. Please set `input_example` parameter when logging the model to auto infer the model signature.\n",
      "100%|██████████| 29/29 [02:20<00:00,  4.85s/it]\n"
     ]
    },
    {
     "name": "stdout",
     "output_type": "stream",
     "text": [
      "Epoch 452/500, Loss: 0.6301, Accuracy: 0.7702\n",
      "Validation Loss: 1.5770, Validation Accuracy: 0.5774\n"
     ]
    },
    {
     "name": "stderr",
     "output_type": "stream",
     "text": [
      "2024/09/20 10:22:05 WARNING mlflow.models.model: Model logged without a signature and input example. Please set `input_example` parameter when logging the model to auto infer the model signature.\n",
      "100%|██████████| 29/29 [02:20<00:00,  4.84s/it]\n"
     ]
    },
    {
     "name": "stdout",
     "output_type": "stream",
     "text": [
      "Epoch 453/500, Loss: 0.5942, Accuracy: 0.7827\n",
      "Validation Loss: 1.6848, Validation Accuracy: 0.5724\n"
     ]
    },
    {
     "name": "stderr",
     "output_type": "stream",
     "text": [
      "2024/09/20 10:24:57 WARNING mlflow.models.model: Model logged without a signature and input example. Please set `input_example` parameter when logging the model to auto infer the model signature.\n",
      "100%|██████████| 29/29 [02:21<00:00,  4.87s/it]\n"
     ]
    },
    {
     "name": "stdout",
     "output_type": "stream",
     "text": [
      "Epoch 454/500, Loss: 0.5793, Accuracy: 0.7903\n",
      "Validation Loss: 1.5963, Validation Accuracy: 0.5763\n"
     ]
    },
    {
     "name": "stderr",
     "output_type": "stream",
     "text": [
      "2024/09/20 10:27:50 WARNING mlflow.models.model: Model logged without a signature and input example. Please set `input_example` parameter when logging the model to auto infer the model signature.\n",
      "100%|██████████| 29/29 [02:20<00:00,  4.85s/it]\n"
     ]
    },
    {
     "name": "stdout",
     "output_type": "stream",
     "text": [
      "Epoch 455/500, Loss: 0.5888, Accuracy: 0.7851\n",
      "Validation Loss: 1.4837, Validation Accuracy: 0.6029\n"
     ]
    },
    {
     "name": "stderr",
     "output_type": "stream",
     "text": [
      "2024/09/20 10:30:43 WARNING mlflow.models.model: Model logged without a signature and input example. Please set `input_example` parameter when logging the model to auto infer the model signature.\n",
      "100%|██████████| 29/29 [02:20<00:00,  4.83s/it]\n"
     ]
    },
    {
     "name": "stdout",
     "output_type": "stream",
     "text": [
      "Epoch 456/500, Loss: 0.5691, Accuracy: 0.7923\n",
      "Validation Loss: 1.6231, Validation Accuracy: 0.5724\n"
     ]
    },
    {
     "name": "stderr",
     "output_type": "stream",
     "text": [
      "2024/09/20 10:33:35 WARNING mlflow.models.model: Model logged without a signature and input example. Please set `input_example` parameter when logging the model to auto infer the model signature.\n",
      "100%|██████████| 29/29 [02:20<00:00,  4.85s/it]\n"
     ]
    },
    {
     "name": "stdout",
     "output_type": "stream",
     "text": [
      "Epoch 457/500, Loss: 0.5600, Accuracy: 0.7970\n",
      "Validation Loss: 1.5940, Validation Accuracy: 0.5818\n"
     ]
    },
    {
     "name": "stderr",
     "output_type": "stream",
     "text": [
      "2024/09/20 10:36:28 WARNING mlflow.models.model: Model logged without a signature and input example. Please set `input_example` parameter when logging the model to auto infer the model signature.\n",
      "100%|██████████| 29/29 [02:21<00:00,  4.89s/it]\n"
     ]
    },
    {
     "name": "stdout",
     "output_type": "stream",
     "text": [
      "Epoch 458/500, Loss: 0.5571, Accuracy: 0.8020\n",
      "Validation Loss: 1.5625, Validation Accuracy: 0.5923\n"
     ]
    },
    {
     "name": "stderr",
     "output_type": "stream",
     "text": [
      "2024/09/20 10:39:21 WARNING mlflow.models.model: Model logged without a signature and input example. Please set `input_example` parameter when logging the model to auto infer the model signature.\n",
      "100%|██████████| 29/29 [02:21<00:00,  4.87s/it]\n"
     ]
    },
    {
     "name": "stdout",
     "output_type": "stream",
     "text": [
      "Epoch 459/500, Loss: 0.5372, Accuracy: 0.8027\n",
      "Validation Loss: 1.5738, Validation Accuracy: 0.5879\n"
     ]
    },
    {
     "name": "stderr",
     "output_type": "stream",
     "text": [
      "2024/09/20 10:42:15 WARNING mlflow.models.model: Model logged without a signature and input example. Please set `input_example` parameter when logging the model to auto infer the model signature.\n",
      "100%|██████████| 29/29 [02:20<00:00,  4.84s/it]\n"
     ]
    },
    {
     "name": "stdout",
     "output_type": "stream",
     "text": [
      "Epoch 460/500, Loss: 0.5435, Accuracy: 0.7993\n",
      "Validation Loss: 1.5707, Validation Accuracy: 0.5890\n"
     ]
    },
    {
     "name": "stderr",
     "output_type": "stream",
     "text": [
      "2024/09/20 10:45:07 WARNING mlflow.models.model: Model logged without a signature and input example. Please set `input_example` parameter when logging the model to auto infer the model signature.\n",
      "100%|██████████| 29/29 [02:20<00:00,  4.84s/it]\n"
     ]
    },
    {
     "name": "stdout",
     "output_type": "stream",
     "text": [
      "Epoch 461/500, Loss: 0.5326, Accuracy: 0.8068\n",
      "Validation Loss: 1.5738, Validation Accuracy: 0.5874\n"
     ]
    },
    {
     "name": "stderr",
     "output_type": "stream",
     "text": [
      "2024/09/20 10:47:59 WARNING mlflow.models.model: Model logged without a signature and input example. Please set `input_example` parameter when logging the model to auto infer the model signature.\n",
      "100%|██████████| 29/29 [02:20<00:00,  4.86s/it]\n"
     ]
    },
    {
     "name": "stdout",
     "output_type": "stream",
     "text": [
      "Epoch 462/500, Loss: 0.5363, Accuracy: 0.8047\n",
      "Validation Loss: 1.5696, Validation Accuracy: 0.5868\n"
     ]
    },
    {
     "name": "stderr",
     "output_type": "stream",
     "text": [
      "2024/09/20 10:50:51 WARNING mlflow.models.model: Model logged without a signature and input example. Please set `input_example` parameter when logging the model to auto infer the model signature.\n",
      "100%|██████████| 29/29 [02:19<00:00,  4.83s/it]\n"
     ]
    },
    {
     "name": "stdout",
     "output_type": "stream",
     "text": [
      "Epoch 463/500, Loss: 0.5389, Accuracy: 0.8035\n",
      "Validation Loss: 1.5649, Validation Accuracy: 0.5840\n"
     ]
    },
    {
     "name": "stderr",
     "output_type": "stream",
     "text": [
      "2024/09/20 10:53:43 WARNING mlflow.models.model: Model logged without a signature and input example. Please set `input_example` parameter when logging the model to auto infer the model signature.\n",
      "100%|██████████| 29/29 [02:20<00:00,  4.84s/it]\n"
     ]
    },
    {
     "name": "stdout",
     "output_type": "stream",
     "text": [
      "Epoch 464/500, Loss: 0.5333, Accuracy: 0.8047\n",
      "Validation Loss: 1.5557, Validation Accuracy: 0.5829\n"
     ]
    },
    {
     "name": "stderr",
     "output_type": "stream",
     "text": [
      "2024/09/20 10:56:36 WARNING mlflow.models.model: Model logged without a signature and input example. Please set `input_example` parameter when logging the model to auto infer the model signature.\n",
      "100%|██████████| 29/29 [02:21<00:00,  4.87s/it]\n"
     ]
    },
    {
     "name": "stdout",
     "output_type": "stream",
     "text": [
      "Epoch 465/500, Loss: 0.5495, Accuracy: 0.8034\n",
      "Validation Loss: 1.5791, Validation Accuracy: 0.5885\n"
     ]
    },
    {
     "name": "stderr",
     "output_type": "stream",
     "text": [
      "2024/09/20 10:59:29 WARNING mlflow.models.model: Model logged without a signature and input example. Please set `input_example` parameter when logging the model to auto infer the model signature.\n",
      "100%|██████████| 29/29 [02:21<00:00,  4.89s/it]\n"
     ]
    },
    {
     "name": "stdout",
     "output_type": "stream",
     "text": [
      "Epoch 466/500, Loss: 0.5484, Accuracy: 0.7967\n",
      "Validation Loss: 1.5420, Validation Accuracy: 0.5962\n"
     ]
    },
    {
     "name": "stderr",
     "output_type": "stream",
     "text": [
      "2024/09/20 11:02:22 WARNING mlflow.models.model: Model logged without a signature and input example. Please set `input_example` parameter when logging the model to auto infer the model signature.\n",
      "100%|██████████| 29/29 [02:20<00:00,  4.83s/it]\n"
     ]
    },
    {
     "name": "stdout",
     "output_type": "stream",
     "text": [
      "Epoch 467/500, Loss: 0.5677, Accuracy: 0.7960\n",
      "Validation Loss: 1.5587, Validation Accuracy: 0.5868\n"
     ]
    },
    {
     "name": "stderr",
     "output_type": "stream",
     "text": [
      "2024/09/20 11:05:15 WARNING mlflow.models.model: Model logged without a signature and input example. Please set `input_example` parameter when logging the model to auto infer the model signature.\n",
      "100%|██████████| 29/29 [02:20<00:00,  4.86s/it]\n"
     ]
    },
    {
     "name": "stdout",
     "output_type": "stream",
     "text": [
      "Epoch 468/500, Loss: 0.5535, Accuracy: 0.7936\n",
      "Validation Loss: 1.6182, Validation Accuracy: 0.5729\n"
     ]
    },
    {
     "name": "stderr",
     "output_type": "stream",
     "text": [
      "2024/09/20 11:08:07 WARNING mlflow.models.model: Model logged without a signature and input example. Please set `input_example` parameter when logging the model to auto infer the model signature.\n",
      "100%|██████████| 29/29 [02:20<00:00,  4.85s/it]\n"
     ]
    },
    {
     "name": "stdout",
     "output_type": "stream",
     "text": [
      "Epoch 469/500, Loss: 0.5719, Accuracy: 0.7906\n",
      "Validation Loss: 1.5138, Validation Accuracy: 0.5946\n"
     ]
    },
    {
     "name": "stderr",
     "output_type": "stream",
     "text": [
      "2024/09/20 11:11:00 WARNING mlflow.models.model: Model logged without a signature and input example. Please set `input_example` parameter when logging the model to auto infer the model signature.\n",
      "100%|██████████| 29/29 [02:21<00:00,  4.88s/it]\n"
     ]
    },
    {
     "name": "stdout",
     "output_type": "stream",
     "text": [
      "Epoch 470/500, Loss: 0.5873, Accuracy: 0.7875\n",
      "Validation Loss: 1.6278, Validation Accuracy: 0.5763\n"
     ]
    },
    {
     "name": "stderr",
     "output_type": "stream",
     "text": [
      "2024/09/20 11:13:54 WARNING mlflow.models.model: Model logged without a signature and input example. Please set `input_example` parameter when logging the model to auto infer the model signature.\n",
      "100%|██████████| 29/29 [02:21<00:00,  4.89s/it]\n"
     ]
    },
    {
     "name": "stdout",
     "output_type": "stream",
     "text": [
      "Epoch 471/500, Loss: 0.6047, Accuracy: 0.7798\n",
      "Validation Loss: 1.7082, Validation Accuracy: 0.5596\n"
     ]
    },
    {
     "name": "stderr",
     "output_type": "stream",
     "text": [
      "2024/09/20 11:16:48 WARNING mlflow.models.model: Model logged without a signature and input example. Please set `input_example` parameter when logging the model to auto infer the model signature.\n",
      "100%|██████████| 29/29 [02:20<00:00,  4.85s/it]\n"
     ]
    },
    {
     "name": "stdout",
     "output_type": "stream",
     "text": [
      "Epoch 472/500, Loss: 0.6182, Accuracy: 0.7695\n",
      "Validation Loss: 1.6509, Validation Accuracy: 0.5729\n"
     ]
    },
    {
     "name": "stderr",
     "output_type": "stream",
     "text": [
      "2024/09/20 11:19:41 WARNING mlflow.models.model: Model logged without a signature and input example. Please set `input_example` parameter when logging the model to auto infer the model signature.\n",
      "100%|██████████| 29/29 [02:22<00:00,  4.90s/it]\n"
     ]
    },
    {
     "name": "stdout",
     "output_type": "stream",
     "text": [
      "Epoch 473/500, Loss: 0.6155, Accuracy: 0.7706\n",
      "Validation Loss: 1.7083, Validation Accuracy: 0.5641\n"
     ]
    },
    {
     "name": "stderr",
     "output_type": "stream",
     "text": [
      "2024/09/20 11:22:35 WARNING mlflow.models.model: Model logged without a signature and input example. Please set `input_example` parameter when logging the model to auto infer the model signature.\n",
      "100%|██████████| 29/29 [02:22<00:00,  4.91s/it]\n"
     ]
    },
    {
     "name": "stdout",
     "output_type": "stream",
     "text": [
      "Epoch 474/500, Loss: 0.6331, Accuracy: 0.7687\n",
      "Validation Loss: 1.7257, Validation Accuracy: 0.5585\n"
     ]
    },
    {
     "name": "stderr",
     "output_type": "stream",
     "text": [
      "2024/09/20 11:25:31 WARNING mlflow.models.model: Model logged without a signature and input example. Please set `input_example` parameter when logging the model to auto infer the model signature.\n",
      "100%|██████████| 29/29 [02:20<00:00,  4.85s/it]\n"
     ]
    },
    {
     "name": "stdout",
     "output_type": "stream",
     "text": [
      "Epoch 475/500, Loss: 0.6428, Accuracy: 0.7681\n",
      "Validation Loss: 1.6216, Validation Accuracy: 0.5696\n"
     ]
    },
    {
     "name": "stderr",
     "output_type": "stream",
     "text": [
      "2024/09/20 11:28:23 WARNING mlflow.models.model: Model logged without a signature and input example. Please set `input_example` parameter when logging the model to auto infer the model signature.\n",
      "100%|██████████| 29/29 [02:20<00:00,  4.85s/it]\n"
     ]
    },
    {
     "name": "stdout",
     "output_type": "stream",
     "text": [
      "Epoch 476/500, Loss: 0.6135, Accuracy: 0.7777\n",
      "Validation Loss: 1.5692, Validation Accuracy: 0.5946\n"
     ]
    },
    {
     "name": "stderr",
     "output_type": "stream",
     "text": [
      "2024/09/20 11:31:16 WARNING mlflow.models.model: Model logged without a signature and input example. Please set `input_example` parameter when logging the model to auto infer the model signature.\n",
      "100%|██████████| 29/29 [02:20<00:00,  4.85s/it]\n"
     ]
    },
    {
     "name": "stdout",
     "output_type": "stream",
     "text": [
      "Epoch 477/500, Loss: 0.6349, Accuracy: 0.7683\n",
      "Validation Loss: 1.5397, Validation Accuracy: 0.6029\n"
     ]
    },
    {
     "name": "stderr",
     "output_type": "stream",
     "text": [
      "2024/09/20 11:34:08 WARNING mlflow.models.model: Model logged without a signature and input example. Please set `input_example` parameter when logging the model to auto infer the model signature.\n",
      "100%|██████████| 29/29 [02:20<00:00,  4.85s/it]\n"
     ]
    },
    {
     "name": "stdout",
     "output_type": "stream",
     "text": [
      "Epoch 478/500, Loss: 0.6333, Accuracy: 0.7658\n",
      "Validation Loss: 1.6883, Validation Accuracy: 0.5679\n"
     ]
    },
    {
     "name": "stderr",
     "output_type": "stream",
     "text": [
      "2024/09/20 11:37:01 WARNING mlflow.models.model: Model logged without a signature and input example. Please set `input_example` parameter when logging the model to auto infer the model signature.\n",
      "100%|██████████| 29/29 [02:21<00:00,  4.88s/it]\n"
     ]
    },
    {
     "name": "stdout",
     "output_type": "stream",
     "text": [
      "Epoch 479/500, Loss: 0.6499, Accuracy: 0.7552\n",
      "Validation Loss: 1.5453, Validation Accuracy: 0.5790\n"
     ]
    },
    {
     "name": "stderr",
     "output_type": "stream",
     "text": [
      "2024/09/20 11:39:55 WARNING mlflow.models.model: Model logged without a signature and input example. Please set `input_example` parameter when logging the model to auto infer the model signature.\n",
      "100%|██████████| 29/29 [02:21<00:00,  4.87s/it]\n"
     ]
    },
    {
     "name": "stdout",
     "output_type": "stream",
     "text": [
      "Epoch 480/500, Loss: 0.6417, Accuracy: 0.7601\n",
      "Validation Loss: 1.6893, Validation Accuracy: 0.5663\n"
     ]
    },
    {
     "name": "stderr",
     "output_type": "stream",
     "text": [
      "2024/09/20 11:42:48 WARNING mlflow.models.model: Model logged without a signature and input example. Please set `input_example` parameter when logging the model to auto infer the model signature.\n",
      "100%|██████████| 29/29 [02:21<00:00,  4.87s/it]\n"
     ]
    },
    {
     "name": "stdout",
     "output_type": "stream",
     "text": [
      "Epoch 481/500, Loss: 0.6394, Accuracy: 0.7647\n",
      "Validation Loss: 1.5919, Validation Accuracy: 0.5630\n"
     ]
    },
    {
     "name": "stderr",
     "output_type": "stream",
     "text": [
      "2024/09/20 11:45:42 WARNING mlflow.models.model: Model logged without a signature and input example. Please set `input_example` parameter when logging the model to auto infer the model signature.\n",
      "100%|██████████| 29/29 [02:21<00:00,  4.89s/it]\n"
     ]
    },
    {
     "name": "stdout",
     "output_type": "stream",
     "text": [
      "Epoch 482/500, Loss: 0.6330, Accuracy: 0.7704\n",
      "Validation Loss: 1.6656, Validation Accuracy: 0.5663\n"
     ]
    },
    {
     "name": "stderr",
     "output_type": "stream",
     "text": [
      "2024/09/20 11:48:36 WARNING mlflow.models.model: Model logged without a signature and input example. Please set `input_example` parameter when logging the model to auto infer the model signature.\n",
      "100%|██████████| 29/29 [02:21<00:00,  4.87s/it]\n"
     ]
    },
    {
     "name": "stdout",
     "output_type": "stream",
     "text": [
      "Epoch 483/500, Loss: 0.6437, Accuracy: 0.7602\n",
      "Validation Loss: 1.6409, Validation Accuracy: 0.5829\n"
     ]
    },
    {
     "name": "stderr",
     "output_type": "stream",
     "text": [
      "2024/09/20 11:51:29 WARNING mlflow.models.model: Model logged without a signature and input example. Please set `input_example` parameter when logging the model to auto infer the model signature.\n",
      "100%|██████████| 29/29 [02:21<00:00,  4.86s/it]\n"
     ]
    },
    {
     "name": "stdout",
     "output_type": "stream",
     "text": [
      "Epoch 484/500, Loss: 0.6018, Accuracy: 0.7837\n",
      "Validation Loss: 1.6875, Validation Accuracy: 0.5674\n"
     ]
    },
    {
     "name": "stderr",
     "output_type": "stream",
     "text": [
      "2024/09/20 11:54:22 WARNING mlflow.models.model: Model logged without a signature and input example. Please set `input_example` parameter when logging the model to auto infer the model signature.\n",
      "100%|██████████| 29/29 [02:21<00:00,  4.87s/it]\n"
     ]
    },
    {
     "name": "stdout",
     "output_type": "stream",
     "text": [
      "Epoch 485/500, Loss: 0.6180, Accuracy: 0.7715\n",
      "Validation Loss: 1.6340, Validation Accuracy: 0.5663\n"
     ]
    },
    {
     "name": "stderr",
     "output_type": "stream",
     "text": [
      "2024/09/20 11:57:16 WARNING mlflow.models.model: Model logged without a signature and input example. Please set `input_example` parameter when logging the model to auto infer the model signature.\n",
      "100%|██████████| 29/29 [02:21<00:00,  4.87s/it]\n"
     ]
    },
    {
     "name": "stdout",
     "output_type": "stream",
     "text": [
      "Epoch 486/500, Loss: 0.5961, Accuracy: 0.7871\n",
      "Validation Loss: 1.6739, Validation Accuracy: 0.5774\n"
     ]
    },
    {
     "name": "stderr",
     "output_type": "stream",
     "text": [
      "2024/09/20 12:00:09 WARNING mlflow.models.model: Model logged without a signature and input example. Please set `input_example` parameter when logging the model to auto infer the model signature.\n",
      "100%|██████████| 29/29 [02:21<00:00,  4.87s/it]\n"
     ]
    },
    {
     "name": "stdout",
     "output_type": "stream",
     "text": [
      "Epoch 487/500, Loss: 0.5805, Accuracy: 0.7864\n",
      "Validation Loss: 1.6417, Validation Accuracy: 0.5630\n"
     ]
    },
    {
     "name": "stderr",
     "output_type": "stream",
     "text": [
      "2024/09/20 12:03:03 WARNING mlflow.models.model: Model logged without a signature and input example. Please set `input_example` parameter when logging the model to auto infer the model signature.\n",
      "100%|██████████| 29/29 [02:21<00:00,  4.88s/it]\n"
     ]
    },
    {
     "name": "stdout",
     "output_type": "stream",
     "text": [
      "Epoch 488/500, Loss: 0.5639, Accuracy: 0.7918\n",
      "Validation Loss: 1.6081, Validation Accuracy: 0.5785\n"
     ]
    },
    {
     "name": "stderr",
     "output_type": "stream",
     "text": [
      "2024/09/20 12:05:57 WARNING mlflow.models.model: Model logged without a signature and input example. Please set `input_example` parameter when logging the model to auto infer the model signature.\n",
      "100%|██████████| 29/29 [02:21<00:00,  4.88s/it]\n"
     ]
    },
    {
     "name": "stdout",
     "output_type": "stream",
     "text": [
      "Epoch 489/500, Loss: 0.5597, Accuracy: 0.7989\n",
      "Validation Loss: 1.6587, Validation Accuracy: 0.5790\n"
     ]
    },
    {
     "name": "stderr",
     "output_type": "stream",
     "text": [
      "2024/09/20 12:08:51 WARNING mlflow.models.model: Model logged without a signature and input example. Please set `input_example` parameter when logging the model to auto infer the model signature.\n",
      "100%|██████████| 29/29 [02:21<00:00,  4.87s/it]\n"
     ]
    },
    {
     "name": "stdout",
     "output_type": "stream",
     "text": [
      "Epoch 490/500, Loss: 0.5440, Accuracy: 0.8035\n",
      "Validation Loss: 1.5637, Validation Accuracy: 0.5918\n"
     ]
    },
    {
     "name": "stderr",
     "output_type": "stream",
     "text": [
      "2024/09/20 12:11:44 WARNING mlflow.models.model: Model logged without a signature and input example. Please set `input_example` parameter when logging the model to auto infer the model signature.\n",
      "100%|██████████| 29/29 [02:21<00:00,  4.87s/it]\n"
     ]
    },
    {
     "name": "stdout",
     "output_type": "stream",
     "text": [
      "Epoch 491/500, Loss: 0.5206, Accuracy: 0.8057\n",
      "Validation Loss: 1.5179, Validation Accuracy: 0.5907\n"
     ]
    },
    {
     "name": "stderr",
     "output_type": "stream",
     "text": [
      "2024/09/20 12:14:38 WARNING mlflow.models.model: Model logged without a signature and input example. Please set `input_example` parameter when logging the model to auto infer the model signature.\n",
      "100%|██████████| 29/29 [02:21<00:00,  4.88s/it]\n"
     ]
    },
    {
     "name": "stdout",
     "output_type": "stream",
     "text": [
      "Epoch 492/500, Loss: 0.5077, Accuracy: 0.8163\n",
      "Validation Loss: 1.5961, Validation Accuracy: 0.5862\n"
     ]
    },
    {
     "name": "stderr",
     "output_type": "stream",
     "text": [
      "2024/09/20 12:17:32 WARNING mlflow.models.model: Model logged without a signature and input example. Please set `input_example` parameter when logging the model to auto infer the model signature.\n",
      "100%|██████████| 29/29 [02:21<00:00,  4.87s/it]\n"
     ]
    },
    {
     "name": "stdout",
     "output_type": "stream",
     "text": [
      "Epoch 493/500, Loss: 0.5218, Accuracy: 0.8107\n",
      "Validation Loss: 1.6076, Validation Accuracy: 0.5851\n"
     ]
    },
    {
     "name": "stderr",
     "output_type": "stream",
     "text": [
      "2024/09/20 12:20:25 WARNING mlflow.models.model: Model logged without a signature and input example. Please set `input_example` parameter when logging the model to auto infer the model signature.\n",
      "100%|██████████| 29/29 [02:21<00:00,  4.89s/it]\n"
     ]
    },
    {
     "name": "stdout",
     "output_type": "stream",
     "text": [
      "Epoch 494/500, Loss: 0.5038, Accuracy: 0.8157\n",
      "Validation Loss: 1.5890, Validation Accuracy: 0.5890\n"
     ]
    },
    {
     "name": "stderr",
     "output_type": "stream",
     "text": [
      "2024/09/20 12:23:19 WARNING mlflow.models.model: Model logged without a signature and input example. Please set `input_example` parameter when logging the model to auto infer the model signature.\n",
      "100%|██████████| 29/29 [02:21<00:00,  4.89s/it]\n"
     ]
    },
    {
     "name": "stdout",
     "output_type": "stream",
     "text": [
      "Epoch 495/500, Loss: 0.5046, Accuracy: 0.8161\n",
      "Validation Loss: 1.5916, Validation Accuracy: 0.5918\n"
     ]
    },
    {
     "name": "stderr",
     "output_type": "stream",
     "text": [
      "2024/09/20 12:26:13 WARNING mlflow.models.model: Model logged without a signature and input example. Please set `input_example` parameter when logging the model to auto infer the model signature.\n",
      "100%|██████████| 29/29 [02:21<00:00,  4.87s/it]\n"
     ]
    },
    {
     "name": "stdout",
     "output_type": "stream",
     "text": [
      "Epoch 496/500, Loss: 0.5091, Accuracy: 0.8153\n",
      "Validation Loss: 1.5894, Validation Accuracy: 0.5912\n"
     ]
    },
    {
     "name": "stderr",
     "output_type": "stream",
     "text": [
      "2024/09/20 12:29:06 WARNING mlflow.models.model: Model logged without a signature and input example. Please set `input_example` parameter when logging the model to auto infer the model signature.\n",
      "100%|██████████| 29/29 [02:21<00:00,  4.87s/it]\n"
     ]
    },
    {
     "name": "stdout",
     "output_type": "stream",
     "text": [
      "Epoch 497/500, Loss: 0.5000, Accuracy: 0.8189\n",
      "Validation Loss: 1.6005, Validation Accuracy: 0.5890\n"
     ]
    },
    {
     "name": "stderr",
     "output_type": "stream",
     "text": [
      "2024/09/20 12:31:59 WARNING mlflow.models.model: Model logged without a signature and input example. Please set `input_example` parameter when logging the model to auto infer the model signature.\n",
      "100%|██████████| 29/29 [02:21<00:00,  4.89s/it]\n"
     ]
    },
    {
     "name": "stdout",
     "output_type": "stream",
     "text": [
      "Epoch 498/500, Loss: 0.5060, Accuracy: 0.8140\n",
      "Validation Loss: 1.5837, Validation Accuracy: 0.5896\n"
     ]
    },
    {
     "name": "stderr",
     "output_type": "stream",
     "text": [
      "2024/09/20 12:34:53 WARNING mlflow.models.model: Model logged without a signature and input example. Please set `input_example` parameter when logging the model to auto infer the model signature.\n",
      "100%|██████████| 29/29 [02:21<00:00,  4.87s/it]\n"
     ]
    },
    {
     "name": "stdout",
     "output_type": "stream",
     "text": [
      "Epoch 499/500, Loss: 0.5123, Accuracy: 0.8131\n",
      "Validation Loss: 1.6212, Validation Accuracy: 0.5918\n"
     ]
    },
    {
     "name": "stderr",
     "output_type": "stream",
     "text": [
      "2024/09/20 12:37:46 WARNING mlflow.models.model: Model logged without a signature and input example. Please set `input_example` parameter when logging the model to auto infer the model signature.\n",
      "100%|██████████| 29/29 [02:21<00:00,  4.88s/it]\n"
     ]
    },
    {
     "name": "stdout",
     "output_type": "stream",
     "text": [
      "Epoch 500/500, Loss: 0.5210, Accuracy: 0.8115\n",
      "Validation Loss: 1.5613, Validation Accuracy: 0.5929\n"
     ]
    },
    {
     "name": "stderr",
     "output_type": "stream",
     "text": [
      "2024/09/20 12:40:40 WARNING mlflow.models.model: Model logged without a signature and input example. Please set `input_example` parameter when logging the model to auto infer the model signature.\n"
     ]
    }
   ],
   "source": [
    "import os\n",
    "import numpy as np\n",
    "import scipy.io as sio\n",
    "from sklearn.model_selection import train_test_split\n",
    "import torch\n",
    "from torch.utils.data import Dataset, DataLoader\n",
    "from transformers import ViTForImageClassification, ViTConfig, AdamW\n",
    "from tqdm import tqdm\n",
    "import glob\n",
    "from torch.optim.lr_scheduler import CosineAnnealingLR\n",
    "from torch.nn import DataParallel\n",
    "import mlflow\n",
    "import mlflow.pytorch\n",
    "\n",
    "root_folder = 's1_s2_s3_matfiles_10gest'  # Update with your folder path\n",
    "num_epochs = 500\n",
    "\n",
    "# Track experiment with MLflow\n",
    "def start_mlflow_experiment(experiment_name):\n",
    "    mlflow.set_experiment(experiment_name)\n",
    "    mlflow.start_run()\n",
    "\n",
    "def end_mlflow_experiment():\n",
    "    mlflow.end_run()\n",
    "\n",
    "# Define the name of the experiment based on the input file or another identifier\n",
    "def get_experiment_name_from_file(filepath):\n",
    "    experiment_name = os.path.basename(filepath).split('.')[0]  # Extract filename without extension\n",
    "    return experiment_name\n",
    "\n",
    "# Initialize MLflow experiment (This can be placed at the start of your main function)\n",
    "experiment_name = get_experiment_name_from_file(root_folder)  # Using folder as experiment name\n",
    "start_mlflow_experiment(experiment_name)\n",
    "\n",
    "# def extract_participant_from_filename(filepath):\n",
    "#     filename = os.path.basename(filepath)\n",
    "#     parts = filename.split('_')\n",
    "    \n",
    "#     for part in parts:\n",
    "#         if 'participant' in part:\n",
    "#             participant_number = part.replace('participant', '')\n",
    "#             return int(participant_number)  # Convert to integer\n",
    "#     return None  # If no participant label found\n",
    "\n",
    "def extract_label_from_filename(filepath):\n",
    "    filename = os.path.basename(filepath)\n",
    "    parts = filename.split('_')\n",
    "    for part in parts:\n",
    "        if 'gesture' in part:\n",
    "            return int(part.replace('gesture', ''))\n",
    "    return None\n",
    "\n",
    "class EMGDataset(Dataset):\n",
    "    def __init__(self, file_list, target_length, labels, augment=False):\n",
    "        self.file_list = file_list\n",
    "        self.target_length = target_length\n",
    "        self.labels = labels\n",
    "        self.augment = augment\n",
    "\n",
    "    def __len__(self):\n",
    "        return len(self.file_list)\n",
    "\n",
    "    def __getitem__(self, idx):\n",
    "        file_path = self.file_list[idx]\n",
    "        label = self.labels[idx]\n",
    "        \n",
    "        # Load and process the EMG data\n",
    "        emg_image = load_and_process_file(file_path, self.target_length)\n",
    "        \n",
    "        # Apply augmentation if enabled\n",
    "        if self.augment:\n",
    "            emg_image = augment_data(emg_image, self.target_length)\n",
    "        \n",
    "        # Check if the EMG image has the correct shape\n",
    "        if emg_image.shape != (3, 224, 224):\n",
    "            raise ValueError(f\"EMG data has shape {emg_image.shape} but expected (3, 224, 224)\")\n",
    "\n",
    "        return emg_image, label\n",
    "\n",
    "\n",
    "\n",
    "# Function to load and process a single .mat file\n",
    "def load_and_process_file(filepath, target_length):\n",
    "    mat_data = sio.loadmat(filepath)\n",
    "    data_emg = mat_data['data_emg']\n",
    "    \n",
    "    # Handle NaNs and Infinities\n",
    "    data_emg = np.nan_to_num(data_emg, nan=0.0, posinf=0.0, neginf=0.0)\n",
    "    \n",
    "    # Pad or truncate the data to the target length\n",
    "    if data_emg.shape[0] < target_length:\n",
    "        padded_data = np.pad(data_emg, ((0, target_length - data_emg.shape[0]), (0, 0)), 'constant', constant_values=0)\n",
    "    else:\n",
    "        padded_data = data_emg[:target_length]\n",
    "\n",
    "    # Reshape to 224x224x3 required by ViT (ensure the size is consistent)\n",
    "    padded_data = padded_data.flatten()  # Flatten before reshaping\n",
    "    num_pixels = 3 * 224 * 224 \n",
    "    \n",
    "    # If we don't have enough data, we can pad with zeros; otherwise, truncate\n",
    "    if padded_data.size < num_pixels:\n",
    "        reshaped_data = np.pad(padded_data, (0, num_pixels - padded_data.size), 'constant', constant_values=0)\n",
    "    else:\n",
    "        reshaped_data = padded_data[:num_pixels]\n",
    "    \n",
    "    # Reshape to (3, 224, 224) as required by ViT\n",
    "    reshaped_data = np.reshape(reshaped_data, (3, 224, 224))\n",
    "    \n",
    "    # Normalize data to range [0, 1]\n",
    "    reshaped_data = (reshaped_data - reshaped_data.min()) / (reshaped_data.max() - reshaped_data.min())\n",
    "\n",
    "    return reshaped_data\n",
    "\n",
    "# Path to the root folder where all .mat files are stored\n",
    "\n",
    "# Find all .mat files in the folder\n",
    "all_mat_files = glob.glob(os.path.join(root_folder, '*.mat'))\n",
    "\n",
    "# Collect all corresponding labels\n",
    "labels = [extract_label_from_filename(mat_file) for mat_file in all_mat_files]\n",
    "\n",
    "# Original unique labels\n",
    "unique_labels = np.unique(labels)\n",
    "\n",
    "# Create a mapping from the original labels to the new range 0-4\n",
    "label_mapping = {original_label: new_label for new_label, original_label in enumerate(unique_labels)}\n",
    "\n",
    "# Convert the original labels to the new range using the mapping\n",
    "converted_labels = np.array([label_mapping[label] for label in labels])\n",
    "\n",
    "labels = converted_labels\n",
    "# Target length for EMG signals (adjust based on your data)\n",
    "target_length = 10240  # Modify this as needed\n",
    "\n",
    "# Split the dataset into train and test sets\n",
    "train_files, test_files, train_labels, test_labels = train_test_split(all_mat_files, labels, test_size=0.2, random_state=42, stratify=labels)\n",
    "\n",
    "# Create datasets and dataloaders\n",
    "train_dataset = EMGDataset(train_files, target_length, train_labels, augment=True)  # Apply augmentation during training\n",
    "test_dataset = EMGDataset(test_files, target_length, test_labels, augment=False)    # No augmentation during testing\n",
    "\n",
    "train_loader = DataLoader(train_dataset, batch_size=256, shuffle=True)\n",
    "test_loader = DataLoader(test_dataset, batch_size=256, shuffle=False)\n",
    "\n",
    "# Model configuration for ViT\n",
    "config = ViTConfig(\n",
    "    hidden_size=128,  # Reduced hidden size for smaller dataset\n",
    "    num_attention_heads=4,  # Reduced attention heads\n",
    "    num_hidden_layers=4,  # Reduced number of transformer layers\n",
    "    image_size=224,\n",
    "    patch_size=8,\n",
    "    num_labels=len(unique_labels),\n",
    "    hidden_dropout_prob=0.3,  # Increased dropout for regularization\n",
    "    attention_probs_dropout_prob=0.3\n",
    ")\n",
    "\n",
    "# Instantiate the ViT model\n",
    "model = ViTForImageClassification(config)\n",
    "model = DataParallel(model)\n",
    "# Use AdamW optimizer with weight decay\n",
    "optimizer = AdamW(model.parameters(), lr=1e-4, weight_decay=1e-4)\n",
    "\n",
    "class WarmupCosineAnnealingScheduler(torch.optim.lr_scheduler._LRScheduler):\n",
    "    def __init__(self, optimizer, warmup_epochs, max_epochs, eta_min=0, last_epoch=-1):\n",
    "        self.warmup_epochs = warmup_epochs\n",
    "        self.max_epochs = max_epochs\n",
    "        self.eta_min = eta_min\n",
    "        super().__init__(optimizer, last_epoch)\n",
    "    \n",
    "    def get_lr(self):\n",
    "        if self.last_epoch < self.warmup_epochs:\n",
    "            # Linear warm-up\n",
    "            return [(self.last_epoch + 1) / self.warmup_epochs * base_lr for base_lr in self.base_lrs]\n",
    "        else:\n",
    "            # Cosine annealing\n",
    "            cosine_decay = 0.5 * (1 + torch.cos(torch.tensor(self.last_epoch - self.warmup_epochs) * torch.pi / (self.max_epochs - self.warmup_epochs)))\n",
    "            return [self.eta_min + (base_lr - self.eta_min) * cosine_decay for base_lr in self.base_lrs]\n",
    "\n",
    "warmup_epochs = 5\n",
    "scheduler = WarmupCosineAnnealingScheduler(optimizer, warmup_epochs=warmup_epochs, max_epochs=num_epochs)\n",
    "# Loss function            \n",
    "# Cosine Annealing Learning Rate Scheduler\n",
    "#scheduler = CosineAnnealingLR(optimizer, T_max=10)\n",
    "\n",
    "# Loss function\n",
    "criterion = torch.nn.CrossEntropyLoss()\n",
    "\n",
    "# Move model to GPU if available\n",
    "device = torch.device(\"cuda\" if torch.cuda.is_available() else \"cpu\")\n",
    "print(device)\n",
    "model.to(device)\n",
    "\n",
    "# Training loop\n",
    "\n",
    "clip_value = 1.0  # For gradient clipping\n",
    "best_val_acc = 0.0  # To track the best validation accuracy\n",
    "best_model_path = 'best_model_10gest.pth'\n",
    "last_model_path = 'last_model_10gest.pth'\n",
    "\n",
    "for epoch in range(num_epochs):\n",
    "    model.train()\n",
    "    running_loss = 0.0\n",
    "    correct = 0\n",
    "    total = 0\n",
    "    for inputs, labels in tqdm(train_loader):\n",
    "        inputs, labels = inputs.to(device), labels.to(device)\n",
    "        \n",
    "        optimizer.zero_grad()\n",
    "        outputs = model(inputs).logits\n",
    "        loss = criterion(outputs, labels)\n",
    "        loss.backward()\n",
    "\n",
    "        # Gradient clipping\n",
    "        torch.nn.utils.clip_grad_norm_(model.parameters(), clip_value)\n",
    "\n",
    "        optimizer.step()\n",
    "        scheduler.step()\n",
    "        \n",
    "        running_loss += loss.item()\n",
    "        _, predicted = torch.max(outputs, 1)\n",
    "        total += labels.size(0)\n",
    "        correct += (predicted == labels).sum().item()\n",
    "\n",
    "    epoch_loss = running_loss / len(train_loader)\n",
    "    epoch_acc = correct / total\n",
    "    print(f'Epoch {epoch+1}/{num_epochs}, Loss: {epoch_loss:.4f}, Accuracy: {epoch_acc:.4f}')\n",
    "\n",
    "    mlflow.log_metric(\"train_loss\", epoch_loss, step=epoch)\n",
    "    mlflow.log_metric(\"train_accuracy\", epoch_acc, step=epoch)\n",
    "\n",
    "    # Validation loop\n",
    "    model.eval()\n",
    "    correct = 0\n",
    "    total = 0\n",
    "    val_loss = 0.0\n",
    "    with torch.no_grad():\n",
    "        for inputs, labels in test_loader:\n",
    "            inputs, labels = inputs.to(device), labels.to(device)\n",
    "            outputs = model(inputs).logits\n",
    "            loss = criterion(outputs, labels)\n",
    "            val_loss += loss.item()\n",
    "            _, predicted = torch.max(outputs, 1)\n",
    "            total += labels.size(0)\n",
    "            correct += (predicted == labels).sum().item()\n",
    "\n",
    "    val_loss = val_loss / len(test_loader)\n",
    "    val_acc = correct / total\n",
    "    print(f'Validation Loss: {val_loss:.4f}, Validation Accuracy: {val_acc:.4f}')\n",
    "\n",
    "    mlflow.log_metric(\"val_loss\", val_loss, step=epoch)\n",
    "    mlflow.log_metric(\"val_accuracy\", val_acc, step=epoch)\n",
    "\n",
    "    torch.save(model.state_dict(), last_model_path)\n",
    "    mlflow.pytorch.log_model(model, \"models/last_model\")\n",
    "    # Save the best model based on validation accuracy\n",
    "    if val_acc > best_val_acc:\n",
    "        best_val_acc = val_acc\n",
    "        torch.save(model.state_dict(), best_model_path)\n",
    "        print(f'New best model saved with accuracy: {best_val_acc:.4f}')\n",
    "        mlflow.pytorch.log_model(model, \"models/best_model\")\n",
    "\n",
    "end_mlflow_experiment()        "
   ]
  },
  {
   "cell_type": "code",
   "execution_count": 3,
   "metadata": {},
   "outputs": [
    {
     "name": "stdout",
     "output_type": "stream",
     "text": [
      "0.6039933444259568\n"
     ]
    }
   ],
   "source": [
    "print(best_val_acc)"
   ]
  }
 ],
 "metadata": {
  "kernelspec": {
   "display_name": ".venv",
   "language": "python",
   "name": "python3"
  },
  "language_info": {
   "codemirror_mode": {
    "name": "ipython",
    "version": 3
   },
   "file_extension": ".py",
   "mimetype": "text/x-python",
   "name": "python",
   "nbconvert_exporter": "python",
   "pygments_lexer": "ipython3",
   "version": "3.10.12"
  }
 },
 "nbformat": 4,
 "nbformat_minor": 2
}
